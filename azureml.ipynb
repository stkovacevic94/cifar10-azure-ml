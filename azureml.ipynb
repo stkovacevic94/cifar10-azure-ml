{
 "cells": [
  {
   "cell_type": "markdown",
   "metadata": {},
   "source": [
    "# Initialize"
   ]
  },
  {
   "cell_type": "code",
   "execution_count": 2,
   "metadata": {},
   "outputs": [],
   "source": [
    "from azureml.core import Workspace\r\n",
    "import json\r\n",
    "\r\n",
    "ws = Workspace.from_config('./.config/azureml_workspace.json')\r\n",
    "with open(\"./.config/auth_keys.json\") as auth_keys_file:\r\n",
    "    auth_keys = json.load(auth_keys_file)"
   ]
  },
  {
   "cell_type": "markdown",
   "metadata": {},
   "source": [
    "# Prepare data"
   ]
  },
  {
   "cell_type": "code",
   "execution_count": null,
   "metadata": {},
   "outputs": [],
   "source": [
    "from torch.utils.data import DataLoader\r\n",
    "from torchvision import datasets, transforms\r\n",
    "import shutil\r\n",
    "\r\n",
    "from azureml.core import Dataset\r\n",
    "\r\n",
    "datasets.CIFAR10(root='./data', train=True, download=True)\r\n",
    "datasets.CIFAR10(root='./data', train=False, download=True)\r\n",
    "\r\n",
    "datastore = ws.get_default_datastore()\r\n",
    "datastore.upload(src_dir='./data', target_path='datasets/cifar10', overwrite=True)\r\n",
    "Dataset.File.from_files(path=(datastore, 'datasets/cifar10')).register(workspace=ws, name='CIFAR10')"
   ]
  },
  {
   "cell_type": "markdown",
   "metadata": {},
   "source": [
    "# Explore dataset"
   ]
  },
  {
   "cell_type": "code",
   "execution_count": 14,
   "metadata": {},
   "outputs": [
    {
     "name": "stdout",
     "output_type": "stream",
     "text": [
      "Files already downloaded and verified\n",
      "tensor([0.4914, 0.4822, 0.4465])\n",
      "tensor([0.2023, 0.1994, 0.2010])\n"
     ]
    }
   ],
   "source": [
    "from torch.utils.data import DataLoader\r\n",
    "import torch\r\n",
    "from torchvision import datasets, transforms\r\n",
    "\r\n",
    "dataset = datasets.CIFAR10(root='./data', train=True, download=True, transform=transforms.ToTensor())\r\n",
    "loader = DataLoader(dataset, batch_size=10, shuffle=False)\r\n",
    "mean, std = 0, 0\r\n",
    "for images, _ in loader:\r\n",
    "    batch_samples = images.size(0) # batch size (the last batch can have smaller size!)\r\n",
    "    images = images.view(batch_samples, images.size(1), -1)\r\n",
    "    mean += images.mean(2).sum(0)\r\n",
    "    std += images.std(2).sum(0)\r\n",
    "\r\n",
    "mean /= len(dataset)\r\n",
    "std /= len(dataset)\r\n",
    "\r\n",
    "print(mean)\r\n",
    "print(std)"
   ]
  },
  {
   "cell_type": "markdown",
   "metadata": {},
   "source": [
    "# Configure environment"
   ]
  },
  {
   "cell_type": "code",
   "execution_count": 3,
   "metadata": {},
   "outputs": [],
   "source": [
    "from azureml.core import Environment\r\n",
    "\r\n",
    "env = Environment.from_conda_specification('PyTorch-1.8.1-GPU', 'environment.yml')\r\n",
    "env.docker.base_image = ('mcr.microsoft.com/azureml/openmpi3.1.2-cuda10.2-cudnn8-ubuntu18.04')\r\n",
    "env.register(ws);"
   ]
  },
  {
   "cell_type": "markdown",
   "metadata": {},
   "source": [
    "# Submit run"
   ]
  },
  {
   "cell_type": "code",
   "execution_count": null,
   "metadata": {},
   "outputs": [],
   "source": [
    "from azureml.core import Experiment, Dataset, Environment, ComputeTarget\r\n",
    "from azureml.core import ScriptRunConfig\r\n",
    "from azureml.widgets import RunDetails\r\n",
    "\r\n",
    "experiment_name = \"CIFAR10\"\r\n",
    "\r\n",
    "env = Environment.get(workspace=ws, name='PyTorch-1.8.1-GPU')\r\n",
    "env.environment_variables['WANDB_API_KEY'] = auth_keys['wandb']\r\n",
    "env.environment_variables['WANDB_ENTITY'] = 'skovacevic94'\r\n",
    "env.environment_variables['WANDB_PROJECT'] = experiment_name\r\n",
    "\r\n",
    "script_config = ScriptRunConfig(\r\n",
    "    source_directory=\"./src\",\r\n",
    "    script='main.py',\r\n",
    "    arguments=[\r\n",
    "            '--data_path', Dataset.get_by_name(workspace=ws, name='CIFAR10').as_mount(),\r\n",
    "            '--lr', 0.001,\r\n",
    "            '--batch_size', 128,\r\n",
    "            '--max_epoch', 100,\r\n",
    "            '--seed', 42],\r\n",
    "    environment=env,\r\n",
    "    compute_target=ComputeTarget(workspace=ws, name='BasicK80')\r\n",
    ")\r\n",
    "\r\n",
    "run = Experiment(workspace=ws, name=experiment_name).submit(config=script_config)\r\n",
    "RunDetails(run).show()\r\n",
    "\r\n",
    "run.wait_for_completion()"
   ]
  }
 ],
 "metadata": {
  "interpreter": {
   "hash": "1fb46e1c3c59de2bcea138549c55dbe5de23c933d5b50756b0143d8ba89f4955"
  },
  "kernelspec": {
   "display_name": "Python 3.8.10 64-bit ('PyTorch-1.8.1-GPU': conda)",
   "name": "python3"
  },
  "language_info": {
   "name": "python",
   "version": ""
  },
  "orig_nbformat": 4
 },
 "nbformat": 4,
 "nbformat_minor": 2
}